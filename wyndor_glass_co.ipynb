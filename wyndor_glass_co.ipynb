{
 "cells": [
  {
   "cell_type": "code",
   "execution_count": 2,
   "id": "fa56c464",
   "metadata": {},
   "outputs": [],
   "source": [
    "from pulp import *\n",
    "import pandas as pd"
   ]
  },
  {
   "cell_type": "code",
   "execution_count": 6,
   "id": "df9595e5",
   "metadata": {},
   "outputs": [],
   "source": [
    "# define the objective\n",
    "model = LpProblem(\"Maximize_Total_Profit\", LpMaximize)"
   ]
  },
  {
   "cell_type": "code",
   "execution_count": 8,
   "id": "36158d50",
   "metadata": {},
   "outputs": [],
   "source": [
    "# define the decision variables\n",
    "\n",
    "# Product1 is an 8' glass door w/ aluminum frame\n",
    "# x = the number of batches of Product1 per week\n",
    "x = LpVariable('x', lowBound=0, upBound=None, cat='Integer')\n",
    "\n",
    "# Product2 is an 4'x6' double-hung wood-framed window\n",
    "# y = the number of batches of Product2 per week\n",
    "y = LpVariable('y', lowBound=0, upBound=None, cat='Integer')"
   ]
  },
  {
   "cell_type": "code",
   "execution_count": 13,
   "id": "8b5d80b5",
   "metadata": {},
   "outputs": [],
   "source": [
    "# define the objective function\n",
    "# each batch generates profit as follows: Product1 (x) $3k & Product2 (y) $5k\n",
    "model += 3 * x + 5 * y"
   ]
  },
  {
   "cell_type": "code",
   "execution_count": 15,
   "id": "36e696f5",
   "metadata": {},
   "outputs": [],
   "source": [
    "# define the constraints\n",
    "\n",
    "# Plant1 has 4hrs of available Production Time per week\n",
    "# Product1 (x) requires 1hr of Production Time in Plant1 per week & Product2 (y) does not require Plant1 resources\n",
    "# 1x + 0y <= 4 == x <= 4\n",
    "model += x <= 4\n",
    "\n",
    "# Plant2 has 12hrs of available Production Time per week\n",
    "# Product1 (x) does not require Plant2 resources & Product2 (y) requires 2hrs of Production Time in Plant2 per week\n",
    "# 0x + 2y <= 12 == 2y <= 12\n",
    "model += 2 * y <= 12\n",
    "\n",
    "# Plant3 has 18hrs of available Production Time per week\n",
    "# Product1 (x) requires 3hrs of Production Time in Plant3 per week & Product2 (y) requires 2hrs of Production Time in Plant3 per week\n",
    "# 3x + 2y <= 18\n",
    "model += 3 * x + 2 * y <= 18\n",
    "\n",
    "# Product1 (x) & Product2 (y) require non-negativity constraints\n",
    "model += x >= 0\n",
    "model += y >= 0"
   ]
  },
  {
   "cell_type": "code",
   "execution_count": 22,
   "id": "f3d24b76",
   "metadata": {},
   "outputs": [
    {
     "name": "stdout",
     "output_type": "stream",
     "text": [
      "Status: Optimal\n",
      "x = 2.0\n",
      "y = 6.0\n",
      "Objective: 36.0\n"
     ]
    },
    {
     "data": {
      "text/html": [
       "<div>\n",
       "<style scoped>\n",
       "    .dataframe tbody tr th:only-of-type {\n",
       "        vertical-align: middle;\n",
       "    }\n",
       "\n",
       "    .dataframe tbody tr th {\n",
       "        vertical-align: top;\n",
       "    }\n",
       "\n",
       "    .dataframe thead th {\n",
       "        text-align: right;\n",
       "    }\n",
       "</style>\n",
       "<table border=\"1\" class=\"dataframe\">\n",
       "  <thead>\n",
       "    <tr style=\"text-align: right;\">\n",
       "      <th></th>\n",
       "      <th>Number of Batches</th>\n",
       "    </tr>\n",
       "    <tr>\n",
       "      <th>Product Name</th>\n",
       "      <th></th>\n",
       "    </tr>\n",
       "  </thead>\n",
       "  <tbody>\n",
       "    <tr>\n",
       "      <th>x</th>\n",
       "      <td>2.0</td>\n",
       "    </tr>\n",
       "    <tr>\n",
       "      <th>y</th>\n",
       "      <td>6.0</td>\n",
       "    </tr>\n",
       "  </tbody>\n",
       "</table>\n",
       "</div>"
      ],
      "text/plain": [
       "              Number of Batches\n",
       "Product Name                   \n",
       "x                           2.0\n",
       "y                           6.0"
      ]
     },
     "execution_count": 22,
     "metadata": {},
     "output_type": "execute_result"
    }
   ],
   "source": [
    "# solve model\n",
    "model.solve(solver=None)\n",
    "\n",
    "# model status\n",
    "print(\"Status:\", LpStatus[model.status])\n",
    "\n",
    "# model variable values\n",
    "for v in model.variables():\n",
    "    print(v.name, \"=\", v.varValue)\n",
    "    \n",
    "# model objective\n",
    "print(\"Objective:\", value(model.objective))\n",
    "\n",
    "# create list of model variables and values\n",
    "output = []\n",
    "for v in model.variables():\n",
    "    var_output = {\n",
    "        'Product Name': v.name,\n",
    "        'Number of Batches': v.varValue\n",
    "    }\n",
    "    output.append(var_output)\n",
    "    \n",
    "# create dataframe from list of variables & values\n",
    "output_df = pd.DataFrame.from_records(output)\n",
    "output_df.set_index('Product Name', inplace=True)\n",
    "output_df\n"
   ]
  },
  {
   "cell_type": "code",
   "execution_count": null,
   "id": "16ae0130",
   "metadata": {},
   "outputs": [],
   "source": []
  }
 ],
 "metadata": {
  "kernelspec": {
   "display_name": "Python 3",
   "language": "python",
   "name": "python3"
  },
  "language_info": {
   "codemirror_mode": {
    "name": "ipython",
    "version": 3
   },
   "file_extension": ".py",
   "mimetype": "text/x-python",
   "name": "python",
   "nbconvert_exporter": "python",
   "pygments_lexer": "ipython3",
   "version": "3.9.4"
  }
 },
 "nbformat": 4,
 "nbformat_minor": 5
}
